{
 "cells": [
  {
   "cell_type": "code",
   "execution_count": 3,
   "metadata": {},
   "outputs": [
    {
     "name": "stdout",
     "output_type": "stream",
     "text": [
      "      monthly_bill  billing_complaint_resolve_time  promotions  \\\n",
      "0         0.516039                        0.000000    0.597524   \n",
      "1         0.576644                        0.000000    0.692095   \n",
      "2         0.663828                        0.000000    0.445595   \n",
      "3         0.233074                        0.000046    0.815344   \n",
      "4         0.863057                        0.000000    0.682348   \n",
      "...            ...                             ...         ...   \n",
      "9995      0.203407                        0.025201    0.990983   \n",
      "9996      0.608331                        0.005809    0.691493   \n",
      "9997      0.735079                        0.001305    0.442245   \n",
      "9998      0.009150                        0.000573    0.758266   \n",
      "9999      0.889118                        0.002724    0.534590   \n",
      "\n",
      "      hotline_call_time  hotline_call_count  archade_visit_time  \\\n",
      "0              0.206445            1.000000            0.622466   \n",
      "1              0.797134            0.818182            0.000000   \n",
      "2              0.000000            0.000000            0.000000   \n",
      "3              0.929168            0.681818            0.000000   \n",
      "4              0.462716            0.683680            0.000000   \n",
      "...                 ...                 ...                 ...   \n",
      "9995           0.278805            0.391943            0.814667   \n",
      "9996           0.357925            0.602472            0.638434   \n",
      "9997           0.587028            0.664437            0.654695   \n",
      "9998           0.952838            0.278350            0.626752   \n",
      "9999           0.086159            0.153595            0.692911   \n",
      "\n",
      "      archade_visit_waiting_time  archade_visit_count  \\\n",
      "0                       0.010099             0.800068   \n",
      "1                       0.000000             0.000000   \n",
      "2                       0.000000             0.000000   \n",
      "3                       0.000000             0.000000   \n",
      "4                       0.000000             0.000000   \n",
      "...                          ...                  ...   \n",
      "9995                    0.136125             0.210391   \n",
      "9996                    0.075531             0.443266   \n",
      "9997                    0.111509             0.388121   \n",
      "9998                    0.063328             0.696362   \n",
      "9999                    0.121397             0.911211   \n",
      "\n",
      "      negative_ratings_cx_sent  positive_ratings_cx_sent  \\\n",
      "0                     0.303030                  0.076923   \n",
      "1                     0.000000                  0.038462   \n",
      "2                     0.000000                  0.000000   \n",
      "3                     0.000000                  0.000000   \n",
      "4                     0.000000                  0.000000   \n",
      "...                        ...                       ...   \n",
      "9995                  0.393939                  0.500000   \n",
      "9996                  0.393939                  0.230769   \n",
      "9997                  0.212121                  0.038462   \n",
      "9998                  0.212121                  0.038462   \n",
      "9999                  0.272727                  0.307692   \n",
      "\n",
      "      complaint_resolve_duration  total_complaints  \\\n",
      "0                       0.928593          0.400038   \n",
      "1                       0.393115          0.400038   \n",
      "2                       0.137639          0.811880   \n",
      "3                       0.007083          0.400038   \n",
      "4                       0.748551          0.400038   \n",
      "...                          ...               ...   \n",
      "9995                    0.936510          0.855927   \n",
      "9996                    0.635273          0.525142   \n",
      "9997                    0.690767          0.473679   \n",
      "9998                    0.556690          0.020763   \n",
      "9999                    0.608035          0.166066   \n",
      "\n",
      "      coverage_related_complaint_duration  adjustment_charges  \\\n",
      "0                                0.000000            0.451996   \n",
      "1                                0.027394            0.824065   \n",
      "2                                0.000000            0.000000   \n",
      "3                                1.000000            0.094495   \n",
      "4                                0.000000            0.481722   \n",
      "...                                   ...                 ...   \n",
      "9995                             0.030079            0.111398   \n",
      "9996                             0.000000            0.704737   \n",
      "9997                             0.032627            0.493066   \n",
      "9998                             0.010783            0.942955   \n",
      "9999                             0.006831            0.558746   \n",
      "\n",
      "      download_bandwidth  downloaded_data  data_charges  churn  \n",
      "0               0.377653         0.749036      0.058333      0  \n",
      "1               0.080659         0.001157      0.007300      0  \n",
      "2               0.386435         0.805287      0.794453      0  \n",
      "3               0.000000         0.036697      0.217758      0  \n",
      "4               0.077507         0.169885      0.707985      0  \n",
      "...                  ...              ...           ...    ...  \n",
      "9995            0.560259         0.630306      0.480046      1  \n",
      "9996            0.929971         0.879657      0.479625      0  \n",
      "9997            0.759008         0.842265      0.770763      1  \n",
      "9998            0.169589         0.676028      0.014280      1  \n",
      "9999            0.309248         0.203098      0.994970      1  \n",
      "\n",
      "[10000 rows x 18 columns]\n"
     ]
    }
   ],
   "source": [
    "import pandas as pd\n",
    "\n",
    "#read csv file\n",
    "dataset = pd.read_csv(\"Finalized_V2.csv\")\n",
    "print(dataset)"
   ]
  },
  {
   "cell_type": "code",
   "execution_count": 4,
   "metadata": {},
   "outputs": [],
   "source": [
    "#specify the independent and target variables\n",
    "#here last column(churn) is the target variable\n",
    "x = dataset.iloc[:, 1:17]\n",
    "y = dataset.iloc[:, 17]\n",
    "\n",
    "#splitting the dataset into train and test\n",
    "from sklearn.model_selection import train_test_split\n",
    "\n",
    "x_train, x_test, y_train, y_test = train_test_split(x, y, train_size=0.7)"
   ]
  },
  {
   "cell_type": "code",
   "execution_count": 5,
   "metadata": {},
   "outputs": [],
   "source": [
    "#feature scaling (if data is in different range)\n",
    "\n",
    "from sklearn.preprocessing import StandardScaler\n",
    "sc = StandardScaler()\n",
    "x_train = sc.fit_transform(x_train)\n",
    "x_test = sc.transform(x_test)"
   ]
  },
  {
   "cell_type": "code",
   "execution_count": null,
   "metadata": {},
   "outputs": [],
   "source": [
    "#implementing ANN\n",
    "#import the Keras libraries and packages\n",
    "from keras.models import Sequential\n",
    "from keras.layers import Dense #dense is used to construct the layers and nodes\n",
    "\n",
    "classifier = Sequential()\n",
    "\n",
    "#adding the first input layer along with hidden layer\n",
    "#input_dim=17->17 variables as inputs, activation=\"relu\"->relu used for 0 to 1 values, kernal_initializer=\"uniform\", units=9->nodes in hidden layer=(17+1)/2\n",
    "classifier.add(Dense(input_dim=17, activation=\"relu\", kernal_initializer=\"uniform\", units=9)) #input layer\n",
    "classifier.add(Dense(units=9, kernal_initializer=\"uniform\", activation=\"relu\")) #hidden layer\n",
    "classifier.add(Dense(units=1, kernal_initializer=\"uniform\", activation=\"sigmoid\")) #final output layer, units=1->1 output, bcos of binary clasification, it uses sigmoid activation\n",
    "classifier.compile(optimizer=\"adam\", lose=\"binary_crossentropy\", metrics=[\"accuracy\"])\n"
   ]
  },
  {
   "cell_type": "code",
   "execution_count": null,
   "metadata": {},
   "outputs": [],
   "source": [
    "classifier.fit(x_train, y_train, batch_size=10, epochs=20)\n",
    "y_predict = classifier.predict(x_test)\n",
    "y_predict = (y_predict > 0.5)\n",
    "\n",
    "from sklearn import metrics\n",
    "print(metrics.accuracy_score(y_test, y_predict))"
   ]
  }
 ],
 "metadata": {
  "interpreter": {
   "hash": "ca0c463419cfe645a0c619001383d8905b1acb39f343118d279a91fecd9da474"
  },
  "kernelspec": {
   "display_name": "Python 3.7.2 32-bit",
   "language": "python",
   "name": "python3"
  },
  "language_info": {
   "codemirror_mode": {
    "name": "ipython",
    "version": 3
   },
   "file_extension": ".py",
   "mimetype": "text/x-python",
   "name": "python",
   "nbconvert_exporter": "python",
   "pygments_lexer": "ipython3",
   "version": "3.7.2"
  },
  "orig_nbformat": 4
 },
 "nbformat": 4,
 "nbformat_minor": 2
}
